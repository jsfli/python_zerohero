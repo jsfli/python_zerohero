{
 "cells": [
  {
   "cell_type": "code",
<<<<<<< HEAD
   "execution_count": 50,
   "metadata": {},
=======
   "execution_count": 166,
   "metadata": {
    "collapsed": false
   },
>>>>>>> b9533ba58cccbe37e49e0e2ac91aefb1378a388d
   "outputs": [],
   "source": [
    "from IPython.display import clear_output"
   ]
  },
  {
   "cell_type": "code",
   "execution_count": 167,
   "metadata": {
    "collapsed": true
   },
   "outputs": [],
   "source": [
    "board = range(0,10)"
   ]
  },
  {
   "cell_type": "code",
<<<<<<< HEAD
   "execution_count": 76,
   "metadata": {},
=======
   "execution_count": 195,
   "metadata": {
    "collapsed": false
   },
>>>>>>> b9533ba58cccbe37e49e0e2ac91aefb1378a388d
   "outputs": [],
   "source": [
    "def printboard(board):\n",
    "    print(str(board[1])+'|'+str(board[2])+'|'+str(board[3]))\n",
    "    print('-----')\n",
    "    print(str(board[4])+'|'+str(board[5])+'|'+str(board[6]))\n",
    "    print('-----')\n",
    "    print(str(board[7])+'|'+str(board[8])+'|'+str(board[9]))"
   ]
  },
  {
   "cell_type": "code",
<<<<<<< HEAD
   "execution_count": 77,
   "metadata": {},
   "outputs": [
    {
     "name": "stdout",
     "output_type": "stream",
     "text": [
      "1|2|3\n",
      "-----\n",
      "4|5|6\n",
      "-----\n",
      "7|8|9\n"
     ]
    }
   ],
   "source": [
    "printboard()"
   ]
  },
  {
   "cell_type": "code",
   "execution_count": 80,
   "metadata": {},
=======
   "execution_count": null,
   "metadata": {
    "collapsed": false
   },
>>>>>>> b9533ba58cccbe37e49e0e2ac91aefb1378a388d
   "outputs": [],
   "source": [
    "def player_X_input():\n",
    "    number = input(\"Player X, please pick a number on the board!\")\n",
    "    while number not in range(1,10) or board[number]!=number:\n",
    "        print('This is an invalid entry, please pick a number on the board')\n",
    "        number = input(\"Player X, please pick a number on the board!\")\n",
    "    \n",
    "    board[number] = 'X'"
   ]
  },
  {
   "cell_type": "code",
<<<<<<< HEAD
   "execution_count": 81,
   "metadata": {},
   "outputs": [
    {
     "name": "stdout",
     "output_type": "stream",
     "text": [
      "X|X|3\n",
      "-----\n",
      "4|5|6\n",
      "-----\n",
      "7|8|9\n"
     ]
    }
   ],
   "source": [
    "player_1_input()"
   ]
  },
  {
   "cell_type": "code",
   "execution_count": 83,
   "metadata": {},
=======
   "execution_count": null,
   "metadata": {
    "collapsed": false
   },
>>>>>>> b9533ba58cccbe37e49e0e2ac91aefb1378a388d
   "outputs": [],
   "source": [
    "def player_O_input():\n",
    "    number = input(\"Player O, please pick a number on the board!\")\n",
    "    while number not in range(1,10) or board[number]!=number:\n",
    "        print('This is an invalid entry, please pick a number on the board')\n",
    "        number = input(\"Player O, please pick a number on the board!\")\n",
    "    \n",
<<<<<<< HEAD
    "    board[number] = 'O'\n",
    "    clear_output()\n",
    "    printboard()"
   ]
  },
  {
   "cell_type": "code",
   "execution_count": 84,
   "metadata": {},
   "outputs": [
    {
     "name": "stdout",
     "output_type": "stream",
     "text": [
      "X|X|O\n",
      "-----\n",
      "4|5|6\n",
      "-----\n",
      "7|8|9\n"
     ]
    }
   ],
   "source": [
    "player_2_input()"
=======
    "    board[number] = 'O'"
>>>>>>> b9533ba58cccbe37e49e0e2ac91aefb1378a388d
   ]
  },
  {
   "cell_type": "code",
   "execution_count": null,
   "metadata": {},
   "outputs": [],
<<<<<<< HEAD
   "source": []
  },
  {
   "cell_type": "code",
   "execution_count": 1,
   "metadata": {},
   "outputs": [],
=======
>>>>>>> b9533ba58cccbe37e49e0e2ac91aefb1378a388d
   "source": [
    "def board_full():\n",
    "    for number in range(1,10):\n",
    "        if board[number]=='X' or board[number]=='O':\n",
    "            pass\n",
    "        else:\n",
    "            return False\n",
    "    return True"
   ]
  },
  {
   "cell_type": "code",
   "execution_count": 2,
   "metadata": {},
   "outputs": [
    {
     "ename": "NameError",
     "evalue": "global name 'board' is not defined",
     "output_type": "error",
     "traceback": [
      "\u001b[1;31m\u001b[0m",
      "\u001b[1;31mNameError\u001b[0mTraceback (most recent call last)",
      "\u001b[1;32m<ipython-input-2-1d30f7e34b16>\u001b[0m in \u001b[0;36m<module>\u001b[1;34m()\u001b[0m\n\u001b[1;32m----> 1\u001b[1;33m \u001b[0mboard_full\u001b[0m\u001b[1;33m(\u001b[0m\u001b[1;33m)\u001b[0m\u001b[1;33m\u001b[0m\u001b[0m\n\u001b[0m",
      "\u001b[1;32m<ipython-input-1-31e76c209e00>\u001b[0m in \u001b[0;36mboard_full\u001b[1;34m()\u001b[0m\n\u001b[0;32m      1\u001b[0m \u001b[1;32mdef\u001b[0m \u001b[0mboard_full\u001b[0m\u001b[1;33m(\u001b[0m\u001b[1;33m)\u001b[0m\u001b[1;33m:\u001b[0m\u001b[1;33m\u001b[0m\u001b[0m\n\u001b[0;32m      2\u001b[0m     \u001b[1;32mfor\u001b[0m \u001b[0mnumber\u001b[0m \u001b[1;32min\u001b[0m \u001b[0mrange\u001b[0m\u001b[1;33m(\u001b[0m\u001b[1;36m1\u001b[0m\u001b[1;33m,\u001b[0m\u001b[1;36m10\u001b[0m\u001b[1;33m)\u001b[0m\u001b[1;33m:\u001b[0m\u001b[1;33m\u001b[0m\u001b[0m\n\u001b[1;32m----> 3\u001b[1;33m         \u001b[1;32mif\u001b[0m \u001b[0mboard\u001b[0m\u001b[1;33m[\u001b[0m\u001b[0mnumber\u001b[0m\u001b[1;33m]\u001b[0m\u001b[1;33m==\u001b[0m\u001b[1;34m'X'\u001b[0m \u001b[1;32mor\u001b[0m \u001b[0mboard\u001b[0m\u001b[1;33m[\u001b[0m\u001b[0mnumber\u001b[0m\u001b[1;33m]\u001b[0m\u001b[1;33m==\u001b[0m\u001b[1;34m'O'\u001b[0m\u001b[1;33m:\u001b[0m\u001b[1;33m\u001b[0m\u001b[0m\n\u001b[0m\u001b[0;32m      4\u001b[0m             \u001b[1;32mpass\u001b[0m\u001b[1;33m\u001b[0m\u001b[0m\n\u001b[0;32m      5\u001b[0m         \u001b[1;32melse\u001b[0m\u001b[1;33m:\u001b[0m\u001b[1;33m\u001b[0m\u001b[0m\n",
      "\u001b[1;31mNameError\u001b[0m: global name 'board' is not defined"
     ]
    }
   ],
   "source": [
    "def win():\n",
    "    marker_O = 'O'\n",
    "    marker_X = 'X'\n",
    "    if (board[1]==board[2]==board[3]==marker_O or \n",
    "        board[4]==board[5]==board[6]==marker_O or\n",
    "        board[7]==board[8]==board[9]==marker_O or\n",
    "        board[1]==board[4]==board[7]==marker_O or\n",
    "        board[2]==board[5]==board[8]==marker_O or\n",
    "        board[3]==board[6]==board[9]==marker_O or\n",
    "        board[1]==board[5]==board[9]==marker_O or\n",
    "        board[3]==board[5]==board[7]==marker_O):\n",
    "        print 'Player O wins'  \n",
    "    elif (board[1]==board[2]==board[3]==marker_X or \n",
    "        board[4]==board[5]==board[6]==marker_X or\n",
    "        board[7]==board[8]==board[9]==marker_X or\n",
    "        board[1]==board[4]==board[7]==marker_X or\n",
    "        board[2]==board[5]==board[8]==marker_X or\n",
    "        board[3]==board[6]==board[9]==marker_X or\n",
    "        board[1]==board[5]==board[9]==marker_X or\n",
    "        board[3]==board[5]==board[7]==marker_X):\n",
    "        print 'Player X wins'\n",
    "    else:\n",
    "        return False\n"
   ]
  },
  {
   "cell_type": "code",
   "execution_count": null,
   "metadata": {},
   "outputs": [],
   "source": [
    "board=range(10)"
   ]
  },
  {
   "cell_type": "code",
   "execution_count": null,
   "metadata": {},
   "outputs": [],
   "source": [
    "def tie():\n",
    "    return board_full() and not win()"
   ]
  },
  {
<<<<<<< HEAD
   "cell_type": "raw",
   "metadata": {},
   "source": [
    "printboard()"
   ]
  },
  {
   "cell_type": "code",
   "execution_count": 63,
   "metadata": {
    "collapsed": true
   },
   "outputs": [],
   "source": []
  },
  {
=======
>>>>>>> b9533ba58cccbe37e49e0e2ac91aefb1378a388d
   "cell_type": "code",
   "execution_count": null,
   "metadata": {},
   "outputs": [],
   "source": [
    "def play():\n",
    "    clear_output()\n",
    "    printboard()\n",
    "    if not win():\n",
    "        if not board_full():\n",
    "            player_X_input()\n",
    "            player_O_input()\n",
    "    "
   ]
  },
  {
   "cell_type": "code",
   "execution_count": null,
   "metadata": {},
   "outputs": [],
   "source": [
    "play()"
   ]
  },
  {
   "cell_type": "code",
   "execution_count": null,
<<<<<<< HEAD
   "metadata": {},
=======
   "metadata": {
    "collapsed": true
   },
>>>>>>> b9533ba58cccbe37e49e0e2ac91aefb1378a388d
   "outputs": [],
   "source": []
  },
  {
   "cell_type": "code",
<<<<<<< HEAD
   "execution_count": 66,
   "metadata": {},
=======
   "execution_count": 197,
   "metadata": {
    "collapsed": false
   },
>>>>>>> b9533ba58cccbe37e49e0e2ac91aefb1378a388d
   "outputs": [
    {
     "name": "stdout",
     "output_type": "stream",
     "text": [
      "X|X|X\n",
      "-----\n",
      "4|5|6\n",
      "-----\n",
      "7|8|9\n"
     ]
    }
   ],
   "source": [
    "printboard(board)"
   ]
  },
  {
   "cell_type": "code",
   "execution_count": null,
<<<<<<< HEAD
   "metadata": {},
   "outputs": [],
   "source": []
  },
  {
   "cell_type": "code",
   "execution_count": null,
=======
>>>>>>> b9533ba58cccbe37e49e0e2ac91aefb1378a388d
   "metadata": {
    "collapsed": true
   },
   "outputs": [],
   "source": []
<<<<<<< HEAD
  },
  {
   "cell_type": "raw",
   "metadata": {},
   "source": []
  },
  {
   "cell_type": "code",
   "execution_count": null,
   "metadata": {},
   "outputs": [],
   "source": []
  },
  {
   "cell_type": "code",
   "execution_count": null,
   "metadata": {
    "collapsed": true
   },
   "outputs": [],
   "source": []
  },
  {
   "cell_type": "code",
   "execution_count": null,
   "metadata": {},
   "outputs": [],
   "source": []
  },
  {
   "cell_type": "code",
   "execution_count": null,
   "metadata": {},
   "outputs": [],
   "source": []
=======
>>>>>>> b9533ba58cccbe37e49e0e2ac91aefb1378a388d
  }
 ],
 "metadata": {
  "kernelspec": {
   "display_name": "Python 2",
   "language": "python",
   "name": "python2"
  },
  "language_info": {
   "codemirror_mode": {
    "name": "ipython",
    "version": 2
   },
   "file_extension": ".py",
   "mimetype": "text/x-python",
   "name": "python",
   "nbconvert_exporter": "python",
   "pygments_lexer": "ipython2",
   "version": "2.7.13"
  }
 },
 "nbformat": 4,
 "nbformat_minor": 2
}
