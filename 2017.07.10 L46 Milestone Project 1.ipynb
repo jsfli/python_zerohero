{
 "cells": [
  {
   "cell_type": "code",
   "execution_count": 166,
   "metadata": {
    "collapsed": false
   },
   "outputs": [],
   "source": [
    "from IPython.display import clear_output"
   ]
  },
  {
   "cell_type": "code",
   "execution_count": 167,
   "metadata": {
    "collapsed": true
   },
   "outputs": [],
   "source": [
    "board = range(0,10)"
   ]
  },
  {
   "cell_type": "code",
   "execution_count": 195,
   "metadata": {
    "collapsed": false
   },
   "outputs": [],
   "source": [
    "def printboard(board):\n",
    "    print(str(board[1])+'|'+str(board[2])+'|'+str(board[3]))\n",
    "    print('-----')\n",
    "    print(str(board[4])+'|'+str(board[5])+'|'+str(board[6]))\n",
    "    print('-----')\n",
    "    print(str(board[7])+'|'+str(board[8])+'|'+str(board[9]))"
   ]
  },
  {
   "cell_type": "code",
   "execution_count": null,
   "metadata": {
    "collapsed": false
   },
   "outputs": [],
   "source": [
    "def player_X_input():\n",
    "    number = input(\"Player X, please pick a number on the board!\")\n",
    "    while number not in range(1,10) or board[number]!=number:\n",
    "        print('This is an invalid entry, please pick a number on the board')\n",
    "        number = input(\"Player X, please pick a number on the board!\")\n",
    "    \n",
    "    board[number] = 'X'"
   ]
  },
  {
   "cell_type": "code",
   "execution_count": null,
   "metadata": {
    "collapsed": false
   },
   "outputs": [],
   "source": [
    "def player_O_input():\n",
    "    number = input(\"Player O, please pick a number on the board!\")\n",
    "    while number not in range(1,10) or board[number]!=number:\n",
    "        print('This is an invalid entry, please pick a number on the board')\n",
    "        number = input(\"Player O, please pick a number on the board!\")\n",
    "    \n",
    "    board[number] = 'O'"
   ]
  },
  {
   "cell_type": "code",
   "execution_count": null,
   "metadata": {
    "collapsed": false
   },
   "outputs": [],
   "source": [
    "def board_full():\n",
    "    for number in range(1,10):\n",
    "        if board[number]=='X' or board[number]=='O':\n",
    "            pass\n",
    "        else:\n",
    "            return False\n",
    "    return True"
   ]
  },
  {
   "cell_type": "code",
   "execution_count": null,
   "metadata": {
    "collapsed": false
   },
   "outputs": [],
   "source": [
    "def win():\n",
    "    marker_O = 'O'\n",
    "    marker_X = 'X'\n",
    "    if (board[1]==board[2]==board[3]==marker_O or \n",
    "        board[4]==board[5]==board[6]==marker_O or\n",
    "        board[7]==board[8]==board[9]==marker_O or\n",
    "        board[1]==board[4]==board[7]==marker_O or\n",
    "        board[2]==board[5]==board[8]==marker_O or\n",
    "        board[3]==board[6]==board[9]==marker_O or\n",
    "        board[1]==board[5]==board[9]==marker_O or\n",
    "        board[3]==board[5]==board[7]==marker_O):\n",
    "        print 'Player O wins'  \n",
    "    elif (board[1]==board[2]==board[3]==marker_X or \n",
    "        board[4]==board[5]==board[6]==marker_X or\n",
    "        board[7]==board[8]==board[9]==marker_X or\n",
    "        board[1]==board[4]==board[7]==marker_X or\n",
    "        board[2]==board[5]==board[8]==marker_X or\n",
    "        board[3]==board[6]==board[9]==marker_X or\n",
    "        board[1]==board[5]==board[9]==marker_X or\n",
    "        board[3]==board[5]==board[7]==marker_X):\n",
    "        print 'Player X wins'\n",
    "    else:\n",
    "        return False\n"
   ]
  },
  {
   "cell_type": "code",
   "execution_count": null,
   "metadata": {
    "collapsed": false
   },
   "outputs": [],
   "source": [
    "board=range(10)"
   ]
  },
  {
   "cell_type": "code",
   "execution_count": null,
   "metadata": {
    "collapsed": false
   },
   "outputs": [],
   "source": [
    "def tie():\n",
    "    return board_full() and not win()"
   ]
  },
  {
   "cell_type": "code",
   "execution_count": null,
   "metadata": {
    "collapsed": false
   },
   "outputs": [],
   "source": [
    "def play():\n",
    "    clear_output()\n",
    "    printboard()\n",
    "    if not win():\n",
    "        if not board_full():\n",
    "            player_X_input()\n",
    "            player_O_input()\n",
    "    "
   ]
  },
  {
   "cell_type": "code",
   "execution_count": null,
   "metadata": {
    "collapsed": false
   },
   "outputs": [],
   "source": [
    "play()"
   ]
  },
  {
   "cell_type": "code",
   "execution_count": null,
   "metadata": {
    "collapsed": true
   },
   "outputs": [],
   "source": []
  },
  {
   "cell_type": "code",
   "execution_count": 197,
   "metadata": {
    "collapsed": false
   },
   "outputs": [
    {
     "name": "stdout",
     "output_type": "stream",
     "text": [
      "X|X|X\n",
      "-----\n",
      "4|5|6\n",
      "-----\n",
      "7|8|9\n"
     ]
    }
   ],
   "source": [
    "printboard(board)"
   ]
  },
  {
   "cell_type": "code",
   "execution_count": null,
   "metadata": {
    "collapsed": true
   },
   "outputs": [],
   "source": []
  }
 ],
 "metadata": {
  "kernelspec": {
   "display_name": "Python 2",
   "language": "python",
   "name": "python2"
  },
  "language_info": {
   "codemirror_mode": {
    "name": "ipython",
    "version": 2
   },
   "file_extension": ".py",
   "mimetype": "text/x-python",
   "name": "python",
   "nbconvert_exporter": "python",
   "pygments_lexer": "ipython2",
   "version": "2.7.13"
  }
 },
 "nbformat": 4,
 "nbformat_minor": 2
}
